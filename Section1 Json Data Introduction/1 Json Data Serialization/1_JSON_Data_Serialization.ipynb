{
 "cells": [
  {
   "cell_type": "code",
   "execution_count": 1,
   "id": "7733987a",
   "metadata": {},
   "outputs": [],
   "source": [
    "import json"
   ]
  },
  {
   "cell_type": "code",
   "execution_count": null,
   "id": "4b740205",
   "metadata": {},
   "outputs": [],
   "source": []
  },
  {
   "cell_type": "code",
   "execution_count": 2,
   "id": "87f6fcb5",
   "metadata": {},
   "outputs": [],
   "source": [
    "friends = {\"Dan\" : [20, \"London\", 123456], \"Maria\" : [25, \"Madrid\", 789456]}"
   ]
  },
  {
   "cell_type": "code",
   "execution_count": 4,
   "id": "b8c75970",
   "metadata": {},
   "outputs": [],
   "source": [
    "with open(\"friends.json\", \"w\") as f:\n",
    "    \n",
    "    json.dump(friends, f, indent=4 )"
   ]
  },
  {
   "cell_type": "code",
   "execution_count": null,
   "id": "de8f69f6",
   "metadata": {},
   "outputs": [],
   "source": []
  },
  {
   "cell_type": "code",
   "execution_count": 5,
   "id": "8bc92dc4",
   "metadata": {},
   "outputs": [],
   "source": [
    "# Serialize obj to a JSON formatted string\n",
    "json_string = json.dumps(obj=friends, indent=4 )"
   ]
  },
  {
   "cell_type": "code",
   "execution_count": 6,
   "id": "d7b88b96",
   "metadata": {},
   "outputs": [
    {
     "name": "stdout",
     "output_type": "stream",
     "text": [
      "{\n",
      "    \"Dan\": [\n",
      "        20,\n",
      "        \"London\",\n",
      "        123456\n",
      "    ],\n",
      "    \"Maria\": [\n",
      "        25,\n",
      "        \"Madrid\",\n",
      "        789456\n",
      "    ]\n",
      "}\n"
     ]
    }
   ],
   "source": [
    "print(json_string)"
   ]
  },
  {
   "cell_type": "code",
   "execution_count": null,
   "id": "b404be8f",
   "metadata": {},
   "outputs": [],
   "source": []
  },
  {
   "cell_type": "code",
   "execution_count": null,
   "id": "466853db",
   "metadata": {},
   "outputs": [],
   "source": []
  }
 ],
 "metadata": {
  "kernelspec": {
   "display_name": "Python 3 (ipykernel)",
   "language": "python",
   "name": "python3"
  },
  "language_info": {
   "codemirror_mode": {
    "name": "ipython",
    "version": 3
   },
   "file_extension": ".py",
   "mimetype": "text/x-python",
   "name": "python",
   "nbconvert_exporter": "python",
   "pygments_lexer": "ipython3",
   "version": "3.10.9"
  }
 },
 "nbformat": 4,
 "nbformat_minor": 5
}
